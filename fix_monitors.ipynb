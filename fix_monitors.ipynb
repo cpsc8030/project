{
 "cells": [
  {
   "cell_type": "code",
   "execution_count": 4,
   "metadata": {},
   "outputs": [
    {
     "name": "stderr",
     "output_type": "stream",
     "text": [
      "100%|██████████| 50000/50000 [1:42:34<00:00,  8.12it/s]  \n",
      "100%|██████████| 50000/50000 [1:18:34<00:00, 10.61it/s]\n",
      "100%|██████████| 50000/50000 [1:17:41<00:00, 10.73it/s]\n",
      "100%|██████████| 50000/50000 [1:36:21<00:00,  8.65it/s]  \n"
     ]
    }
   ],
   "source": [
    "import os\n",
    "import pandas as pd\n",
    "import tqdm\n",
    "\n",
    "root = 'SciVisContest23'\n",
    "folders = ['viz-calcium', 'viz-disable', 'viz-no-network', 'viz-stimulus']\n",
    "for folder in folders:\n",
    "    path = os.path.join(root, folder, 'monitors')\n",
    "    files = os.listdir(path)\n",
    "    files = [f for f in files if not f.startswith('.') and os.path.isfile(os.path.join(path, f))]\n",
    "    files.sort()\n",
    "    for source in tqdm.tqdm(files):\n",
    "        target = open(os.path.join(path, source.replace('.csv', '_fixed.csv')), 'w')\n",
    "        df = pd.read_csv(os.path.join(path, source), sep=';',\n",
    "            names=['step', 'fired', 'fired_fraction', 'activity', 'dampening', 'current_calcium', 'target_calcium', 'synaptic_input', \n",
    "                'background_input', 'grown_axons', 'connected_axon', 'grown_dendrites', 'connected_dendrites']\n",
    "        )\n",
    "        df['step'] = [i for i in range(0, len(df) * 100, 100)]\n",
    "        with open(os.path.join(path, source.replace('.csv', '_fixed.csv')), 'w') as f:\n",
    "            df.to_csv(f, sep=';', index=False, header=False)\n",
    "        target.close()\n",
    "        os.remove(os.path.join(path, source))\n",
    "        os.rename(os.path.join(path, source.replace('.csv', '_fixed.csv')), os.path.join(path, source))"
   ]
  }
 ],
 "metadata": {
  "kernelspec": {
   "display_name": "svp",
   "language": "python",
   "name": "python3"
  },
  "language_info": {
   "codemirror_mode": {
    "name": "ipython",
    "version": 3
   },
   "file_extension": ".py",
   "mimetype": "text/x-python",
   "name": "python",
   "nbconvert_exporter": "python",
   "pygments_lexer": "ipython3",
   "version": "3.11.0"
  },
  "orig_nbformat": 4
 },
 "nbformat": 4,
 "nbformat_minor": 2
}
