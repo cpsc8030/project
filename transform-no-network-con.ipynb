{
 "cells": [
  {
   "cell_type": "code",
   "execution_count": 1,
   "metadata": {},
   "outputs": [],
   "source": [
    "import os\n",
    "import pandas as pd\n",
    "import re\n",
    "import meshio\n",
    "import tqdm"
   ]
  },
  {
   "cell_type": "code",
   "execution_count": 2,
   "metadata": {},
   "outputs": [],
   "source": [
    "df_pos = pd.read_csv('SciVisContest23/viz-no-network/positions/rank_0_positions.txt', sep=' ', names=['local_id', 'x', 'y', 'z', 'area', 'type'], skiprows=8)"
   ]
  },
  {
   "cell_type": "code",
   "execution_count": 3,
   "metadata": {},
   "outputs": [],
   "source": [
    "df_pos['area'] = df_pos['area'].apply(lambda x: re.search(r'.*_(\\d+)', x).group(1))"
   ]
  },
  {
   "cell_type": "code",
   "execution_count": 4,
   "metadata": {},
   "outputs": [],
   "source": [
    "points = df_pos[['x', 'y', 'z']].values\n",
    "point_data = {\n",
    "    'id': df_pos['local_id'].values,\n",
    "    'area': df_pos['area'].values.astype(int),\n",
    "}\n",
    "cells = {}\n",
    "mesh = meshio.Mesh(points=points, cells=cells, point_data=point_data)\n",
    "mesh.write('SciVisContest23/viz-no-network/timeseries/rank_0_positions.vtk')"
   ]
  },
  {
   "cell_type": "code",
   "execution_count": 5,
   "metadata": {},
   "outputs": [
    {
     "name": "stderr",
     "output_type": "stream",
     "text": [
      "100%|██████████| 202/202 [06:05<00:00,  1.81s/it]\n"
     ]
    }
   ],
   "source": [
    "files = os.listdir('SciVisContest23/viz-no-network/network')\n",
    "files.sort()\n",
    "i = 0\n",
    "for file in tqdm.tqdm(files): \n",
    "    df_network = pd.read_csv('SciVisContest23/viz-no-network/network/' + file, sep='\\s+', \n",
    "        names=['target_rank', 'target_id', 'source_rank', 'source_id', 'weight'], skiprows=5)\n",
    "    connections = list(map(lambda x: x.tolist(), df_network[['source_id', 'target_id']].to_numpy()))\n",
    "    connections = [[j - 1 for j in el] for el in connections]\n",
    "    cells = {} if len(connections) == 0 else [\n",
    "        ('line', connections)\n",
    "    ]\n",
    "    mesh = meshio.Mesh(points=points, cells=cells, point_data=point_data)\n",
    "    mesh.write('SciVisContest23/viz-no-network/timeseries/links/step_' + str(i) + '.vtk')\n",
    "    i += 1\n"
   ]
  }
 ],
 "metadata": {
  "kernelspec": {
   "display_name": "svp",
   "language": "python",
   "name": "python3"
  },
  "language_info": {
   "codemirror_mode": {
    "name": "ipython",
    "version": 3
   },
   "file_extension": ".py",
   "mimetype": "text/x-python",
   "name": "python",
   "nbconvert_exporter": "python",
   "pygments_lexer": "ipython3",
   "version": "3.11.0"
  },
  "orig_nbformat": 4
 },
 "nbformat": 4,
 "nbformat_minor": 2
}
