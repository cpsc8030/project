{
 "cells": [
  {
   "cell_type": "code",
   "execution_count": 1,
   "metadata": {},
   "outputs": [],
   "source": [
    "import os\n",
    "import pandas as pd\n",
    "import re\n",
    "import meshio\n",
    "import tqdm"
   ]
  },
  {
   "cell_type": "code",
   "execution_count": 2,
   "metadata": {},
   "outputs": [],
   "source": [
    "df_pos = pd.read_csv('SciVisContest23/viz-no-network/positions/rank_0_positions.txt', sep=' ', names=['local_id', 'x', 'y', 'z', 'area', 'type'], skiprows=8)"
   ]
  },
  {
   "cell_type": "code",
   "execution_count": 3,
   "metadata": {},
   "outputs": [],
   "source": [
    "points = df_pos[['x', 'y', 'z']].values\n",
    "cells = {}"
   ]
  },
  {
   "cell_type": "code",
   "execution_count": 5,
   "metadata": {},
   "outputs": [
    {
     "name": "stderr",
     "output_type": "stream",
     "text": [
      "100%|██████████| 50000/50000 [30:08<00:00, 27.64it/s]  \n"
     ]
    }
   ],
   "source": [
    "columns = ['step', 'fired', 'fired_fraction', 'activity', 'dampening', 'current_calcium', 'target_calcium', 'synaptic_input', 'background_input', \n",
    "    'grown_axons', 'connected_axon', 'grown_dendrites', 'connected_dendrites', 'id']\n",
    "df = pd.DataFrame(columns=['id', 'step', 'fired', 'activity', 'current_calcium', 'synaptic_input', 'connected_dendrites'])\n",
    "files = os.listdir('SciVisContest23/viz-no-network/monitors')\n",
    "list_df = []\n",
    "for file in tqdm.tqdm(files):\n",
    "    df_inter = pd.read_csv('SciVisContest23/viz-no-network/monitors/' + file, sep=';', names=columns)\n",
    "    df_inter['id'] = re.search(r'\\d+_(\\d+)\\.csv', file).group(1)\n",
    "    df_inter = df_inter[['id', 'step', 'fired', 'activity', 'current_calcium', 'synaptic_input', 'connected_dendrites']]\n",
    "    list_df.append(df_inter)\n",
    "df = pd.concat(list_df, axis=0)\n",
    "\n",
    "df = df.astype({\n",
    "    'id': int,\n",
    "    'step': int, \n",
    "    'fired': int,\n",
    "    'activity': float,\n",
    "    'current_calcium': float,\n",
    "    'synaptic_input': float,\n",
    "    'connected_dendrites': int\n",
    "})\n",
    "\n",
    "df.to_csv('SciVisContest23/viz-no-network/timeseries/neurons.csv')"
   ]
  },
  {
   "cell_type": "code",
   "execution_count": 6,
   "metadata": {},
   "outputs": [],
   "source": [
    "df = pd.read_csv('SciVisContest23/viz-no-network/timeseries/neurons.csv')"
   ]
  },
  {
   "cell_type": "code",
   "execution_count": 7,
   "metadata": {},
   "outputs": [
    {
     "name": "stderr",
     "output_type": "stream",
     "text": [
      "100%|██████████| 10000/10000 [2:26:07<00:00,  1.14it/s] \n"
     ]
    },
    {
     "ename": "",
     "evalue": "",
     "output_type": "error",
     "traceback": [
      "\u001b[1;31mThe Kernel crashed while executing code in the the current cell or a previous cell. Please review the code in the cell(s) to identify a possible cause of the failure. Click <a href='https://aka.ms/vscodeJupyterKernelCrash'>here</a> for more info. View Jupyter <a href='command:jupyter.viewOutput'>log</a> for further details."
     ]
    }
   ],
   "source": [
    "ids = set(range(0, 50000))\n",
    "for step in tqdm.tqdm(df['step'].unique()):\n",
    "    df_inter = df[df['step'] == step][['id', 'step', 'fired', 'activity', 'current_calcium', 'synaptic_input', 'connected_dendrites']]\n",
    "    ids_mis = ids - set(df_inter['id'].unique())\n",
    "    df_mis = pd.DataFrame({'id': list(ids_mis), 'fired': 0})\n",
    "    df_inter = df_inter.astype({\n",
    "        'id': int,\n",
    "        'fired': int,\n",
    "        'activity': float,\n",
    "        'current_calcium': float,\n",
    "        'synaptic_input': float,\n",
    "        'connected_dendrites': int\n",
    "    })\n",
    "    df_uni = pd.concat([df_inter, df_mis], ignore_index=True)\n",
    "    df_uni = df_uni.sort_values('id')\n",
    "    point_data = {\n",
    "        'fired': df_uni['fired'].values,\n",
    "        'activity': df_uni['activity'].values,\n",
    "        'current_calcium': df_uni['current_calcium'].values,\n",
    "        'synaptic_input': df_uni['synaptic_input'].values,\n",
    "        'connected_dendrites': df_uni['connected_dendrites'].values\n",
    "    }\n",
    "    mesh = meshio.Mesh(points=points, cells=cells, point_data=point_data)\n",
    "    mesh.write('SciVisContest23/viz-no-network/timeseries/neurons/step_full_' + str(f\"{int(step):06d}\") + '.vtk')"
   ]
  }
 ],
 "metadata": {
  "kernelspec": {
   "display_name": "svp",
   "language": "python",
   "name": "python3"
  },
  "language_info": {
   "codemirror_mode": {
    "name": "ipython",
    "version": 3
   },
   "file_extension": ".py",
   "mimetype": "text/x-python",
   "name": "python",
   "nbconvert_exporter": "python",
   "pygments_lexer": "ipython3",
   "version": "3.11.0"
  },
  "orig_nbformat": 4,
  "vscode": {
   "interpreter": {
    "hash": "3f48af2be8452551130b94332f125bd6c29f37681c69945c0b1711d1a7683bbf"
   }
  }
 },
 "nbformat": 4,
 "nbformat_minor": 2
}
