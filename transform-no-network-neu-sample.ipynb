{
 "cells": [
  {
   "cell_type": "code",
   "execution_count": 19,
   "metadata": {},
   "outputs": [],
   "source": [
    "import os\n",
    "import pandas as pd\n",
    "import numpy as np\n",
    "import random\n",
    "import re\n",
    "import meshio\n",
    "import tqdm"
   ]
  },
  {
   "cell_type": "code",
   "execution_count": 26,
   "metadata": {},
   "outputs": [],
   "source": [
    "df_pos = pd.read_csv('SciVisContest23/viz-no-network/positions/rank_0_positions.txt', sep=' ', names=['local_id', 'x', 'y', 'z', 'area', 'type'], skiprows=8)"
   ]
  },
  {
   "cell_type": "code",
   "execution_count": 27,
   "metadata": {},
   "outputs": [],
   "source": [
    "random.seed(12345)\n",
    "sample = random.sample(range(0, len(df_pos)), int(len(df_pos) / 10))"
   ]
  },
  {
   "cell_type": "code",
   "execution_count": 28,
   "metadata": {},
   "outputs": [],
   "source": [
    "df_pos = df_pos.iloc[sample, :]\n",
    "points = df_pos[['x', 'y', 'z']].values\n",
    "cells = {}"
   ]
  },
  {
   "cell_type": "code",
   "execution_count": 29,
   "metadata": {},
   "outputs": [
    {
     "name": "stderr",
     "output_type": "stream",
     "text": [
      "100%|██████████| 50000/50000 [01:24<00:00, 591.62it/s]\n"
     ]
    }
   ],
   "source": [
    "columns = ['step', 'fired', 'fired_fraction', 'activity', 'dampening', 'current_calcium', 'target_calcium', 'synaptic_input', 'background_input', \n",
    "    'grown_axons', 'connected_axon', 'grown_dendrites', 'connected_dendrites', 'id']\n",
    "df = pd.DataFrame(columns=['id', 'step', 'fired', 'activity', 'current_calcium', 'synaptic_input', 'connected_dendrites'])\n",
    "files = os.listdir('SciVisContest23/viz-no-network/monitors')\n",
    "list_df = []\n",
    "for file in tqdm.tqdm(files):\n",
    "    id = re.search(r'\\d+_(\\d+)\\.csv', file).group(1)\n",
    "    if int(id) not in sample:\n",
    "        continue\n",
    "    df_inter = pd.read_csv('SciVisContest23/viz-no-network/monitors/' + file, sep=';', names=columns)\n",
    "    df_inter['id'] = id\n",
    "    df_inter = df_inter[['id', 'step', 'fired', 'activity', 'current_calcium', 'synaptic_input', 'connected_dendrites']]\n",
    "    list_df.append(df_inter)\n",
    "df = pd.concat(list_df, axis=0)\n",
    "\n",
    "df = df.astype({\n",
    "    'id': int,\n",
    "    'step': int, \n",
    "    'fired': int,\n",
    "    'activity': float,\n",
    "    'current_calcium': float,\n",
    "    'synaptic_input': float,\n",
    "    'connected_dendrites': int\n",
    "})\n",
    "\n",
    "df.to_csv('SciVisContest23/viz-no-network/timeseries/sample/neurons.csv')"
   ]
  },
  {
   "cell_type": "code",
   "execution_count": 30,
   "metadata": {},
   "outputs": [],
   "source": [
    "df = pd.read_csv('SciVisContest23/viz-no-network/timeseries/sample/neurons.csv')"
   ]
  },
  {
   "cell_type": "code",
   "execution_count": 32,
   "metadata": {},
   "outputs": [
    {
     "name": "stderr",
     "output_type": "stream",
     "text": [
      "100%|██████████| 10000/10000 [12:36<00:00, 13.21it/s]\n"
     ]
    }
   ],
   "source": [
    "# ids = set(range(0, 50000))\n",
    "for step in tqdm.tqdm(df['step'].unique()):\n",
    "    df_inter = df[df['step'] == step][['id', 'step', 'fired', 'activity', 'current_calcium', 'synaptic_input', 'connected_dendrites']]\n",
    "    df_inter = df_inter.astype({\n",
    "        'id': int,\n",
    "        'fired': int,\n",
    "        'activity': float,\n",
    "        'current_calcium': float,\n",
    "        'synaptic_input': float,\n",
    "        'connected_dendrites': int\n",
    "    })\n",
    "    df_uni = df_inter\n",
    "    df_uni = df_uni.sort_values('id')\n",
    "    point_data = {\n",
    "        'fired': df_uni['fired'].values,\n",
    "        'activity': df_uni['activity'].values,\n",
    "        'current_calcium': df_uni['current_calcium'].values,\n",
    "        'synaptic_input': df_uni['synaptic_input'].values,\n",
    "        'connected_dendrites': df_uni['connected_dendrites'].values\n",
    "    }\n",
    "    mesh = meshio.Mesh(points=points, cells=cells, point_data=point_data)\n",
    "    mesh.write('SciVisContest23/viz-no-network/timeseries/sample/neurons/step_full_' + str(f\"{int(step):06d}\") + '.vtk')"
   ]
  }
 ],
 "metadata": {
  "kernelspec": {
   "display_name": "svp",
   "language": "python",
   "name": "python3"
  },
  "language_info": {
   "codemirror_mode": {
    "name": "ipython",
    "version": 3
   },
   "file_extension": ".py",
   "mimetype": "text/x-python",
   "name": "python",
   "nbconvert_exporter": "python",
   "pygments_lexer": "ipython3",
   "version": "3.11.0"
  },
  "orig_nbformat": 4,
  "vscode": {
   "interpreter": {
    "hash": "3f48af2be8452551130b94332f125bd6c29f37681c69945c0b1711d1a7683bbf"
   }
  }
 },
 "nbformat": 4,
 "nbformat_minor": 2
}
