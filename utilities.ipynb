{
 "cells": [
  {
   "cell_type": "code",
   "execution_count": 2,
   "metadata": {},
   "outputs": [
    {
     "data": {
      "text/plain": [
       "'/Users/dmitry/Dev/workspace/clemson/sv/project/file.vti'"
      ]
     },
     "execution_count": 2,
     "metadata": {},
     "output_type": "execute_result"
    }
   ],
   "source": [
    "#The easiest way to import your data is through a np array. If you can create a numpy array then you\n",
    "#can also input your data in Paraviev. This is the general pipeline and the function/library I prefer\n",
    "#to use to do that\n",
    "\n",
    "import numpy as np\n",
    "from pyevtk.hl import imageToVTK      #pip install pyevtk\n",
    "\n",
    "data = np.random.rand(10,10) #generate a random 2d array with 100 points\n",
    "data = data.reshape([10,10,1]) # notice that I have to explicitly make it a 3D array. Otherwise imageToVTK will not work\n",
    "\n",
    "imageToVTK(\"file\", pointData = {\"field\": data})"
   ]
  },
  {
   "cell_type": "code",
   "execution_count": 2,
   "metadata": {},
   "outputs": [],
   "source": [
    "#Sometimes it is also useful to be able to import your data from a VTI/VTK file into a numpy array. This is the easier\n",
    "#way to do it.\n",
    "\n",
    "import vtk\n",
    "from vtk.util.numpy_support import vtk_to_numpy\n",
    "\n",
    "imr = vtk.vtkXMLImageDataReader()\n",
    "imr.SetFileName('file.vti')\n",
    "imr.Update()\n",
    "\n",
    "im = imr.GetOutput()\n",
    "x, y, z = im.GetDimensions()\n",
    "sc = im.GetPointData().GetScalars(\"field\")\n",
    "a = vtk_to_numpy(sc)\n",
    "a = a.reshape(x, y, z)"
   ]
  },
  {
   "cell_type": "code",
   "execution_count": 3,
   "metadata": {},
   "outputs": [
    {
     "data": {
      "text/plain": [
       "'/Users/dmitry/Dev/workspace/clemson/sv/project/file_subsampled.vti'"
      ]
     },
     "execution_count": 3,
     "metadata": {},
     "output_type": "execute_result"
    }
   ],
   "source": [
    "#this process can be particularly useful to resize your input data in order to play with smaller (subsampled)\n",
    "#versions of your dataset. This can be achieved for example with this function\n",
    "from skimage.transform import resize\n",
    "\n",
    "dataset = resize(a, (x/2, y/2, z))\n",
    "imageToVTK(\"file_subsampled\", pointData = {\"field\": dataset})\n"
   ]
  },
  {
   "cell_type": "code",
   "execution_count": 3,
   "metadata": {},
   "outputs": [
    {
     "data": {
      "text/html": [
       "<pre style=\"white-space:pre;overflow-x:auto;line-height:normal;font-family:Menlo,'DejaVu Sans Mono',consolas,'Courier New',monospace\"><span style=\"color: #808000; text-decoration-color: #808000; font-weight: bold\">Warning:</span><span style=\"color: #808000; text-decoration-color: #808000\"> VTK requires 3D points, but 2D points given. Appending </span><span style=\"color: #808000; text-decoration-color: #808000; font-weight: bold\">0</span><span style=\"color: #808000; text-decoration-color: #808000\"> third component.</span>\n",
       "</pre>\n"
      ],
      "text/plain": [
       "\u001b[1;33mWarning:\u001b[0m\u001b[33m VTK requires 3D points, but 2D points given. Appending \u001b[0m\u001b[1;33m0\u001b[0m\u001b[33m third component.\u001b[0m\n"
      ]
     },
     "metadata": {},
     "output_type": "display_data"
    }
   ],
   "source": [
    "# To work with meshes/unstructured data/networks I prefer to use meshio.\n",
    "# You can read/write a mesh in VTK format adapting the following pipeline.\n",
    "\n",
    "import meshio\n",
    "\n",
    "points = [\n",
    "    [0.0, 0.0],\n",
    "    [1.0, 0.0],\n",
    "    [0.0, 1.0],\n",
    "    [1.0, 1.0],\n",
    "    [2.0, 0.0],\n",
    "    [2.0, 1.0],\n",
    "]\n",
    "\n",
    "point_data = {\"field\": np.array([0,0,0,1,1,1])}\n",
    "\n",
    "cells = [\n",
    "    (\"line\", [[1, 4], [5, 3]]),\n",
    "    (\"triangle\", [[0, 1, 2], [1, 3, 2]]),\n",
    "]\n",
    "\n",
    "\n",
    "meshio.write_points_cells(\"mesh.vtk\",points,cells,point_data=point_data)"
   ]
  },
  {
   "cell_type": "code",
   "execution_count": null,
   "metadata": {},
   "outputs": [],
   "source": []
  }
 ],
 "metadata": {
  "kernelspec": {
   "display_name": "Python 3",
   "language": "python",
   "name": "python3"
  },
  "language_info": {
   "codemirror_mode": {
    "name": "ipython",
    "version": 3
   },
   "file_extension": ".py",
   "mimetype": "text/x-python",
   "name": "python",
   "nbconvert_exporter": "python",
   "pygments_lexer": "ipython3",
   "version": "3.11.0"
  }
 },
 "nbformat": 4,
 "nbformat_minor": 2
}
