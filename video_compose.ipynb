{
 "cells": [
  {
   "cell_type": "code",
   "execution_count": 1,
   "metadata": {},
   "outputs": [],
   "source": [
    "import imageio\n",
    "import os\n",
    "import tqdm"
   ]
  },
  {
   "cell_type": "code",
   "execution_count": 2,
   "metadata": {},
   "outputs": [],
   "source": [
    "image_dir = '/Users/dmitry/Dev/workspace/clemson/sv/project/SciVisContest23/viz-no-network/timeseries/sample/images_fixed/'\n",
    "output_filename = '/Users/dmitry/Dev/workspace/clemson/sv/project/SciVisContest23/viz-no-network/timeseries/sample/fixed.mp4'"
   ]
  },
  {
   "cell_type": "code",
   "execution_count": 3,
   "metadata": {},
   "outputs": [],
   "source": [
    "images = [f for f in os.listdir(image_dir) if f.endswith('.png')]\n",
    "images.sort()"
   ]
  },
  {
   "cell_type": "code",
   "execution_count": 4,
   "metadata": {},
   "outputs": [
    {
     "name": "stderr",
     "output_type": "stream",
     "text": [
      "  0%|          | 0/10000 [00:00<?, ?it/s]/var/folders/lf/thlr_vcx6vv99mxw1wv4ldsc0000gn/T/ipykernel_8468/1367299148.py:4: DeprecationWarning: Starting with ImageIO v3 the behavior of this function will switch to that of iio.v3.imread. To keep the current behavior (and make this warning disappear) use `import imageio.v2 as imageio` or call `imageio.v2.imread` directly.\n",
      "  image = imageio.imread(image_path)\n",
      "100%|██████████| 10000/10000 [19:08<00:00,  8.71it/s]\n"
     ]
    }
   ],
   "source": [
    "writer = imageio.get_writer(output_filename, fps=30)\n",
    "for image_file in tqdm.tqdm(images):\n",
    "    image_path = os.path.join(image_dir, image_file)\n",
    "    image = imageio.imread(image_path)\n",
    "    writer.append_data(image)\n",
    "writer.close()"
   ]
  }
 ],
 "metadata": {
  "kernelspec": {
   "display_name": "svp",
   "language": "python",
   "name": "python3"
  },
  "language_info": {
   "codemirror_mode": {
    "name": "ipython",
    "version": 3
   },
   "file_extension": ".py",
   "mimetype": "text/x-python",
   "name": "python",
   "nbconvert_exporter": "python",
   "pygments_lexer": "ipython3",
   "version": "3.11.0"
  },
  "orig_nbformat": 4
 },
 "nbformat": 4,
 "nbformat_minor": 2
}
